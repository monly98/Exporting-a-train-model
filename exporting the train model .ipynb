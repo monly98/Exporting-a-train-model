{
 "cells": [
  {
   "cell_type": "markdown",
   "id": "65b7f8cc",
   "metadata": {},
   "source": [
    "# Fit the model on training set"
   ]
  },
  {
   "cell_type": "code",
   "execution_count": 1,
   "id": "e25b459f",
   "metadata": {},
   "outputs": [
    {
     "name": "stdout",
     "output_type": "stream",
     "text": [
      "task1\n",
      "['.ipynb_checkpoints', 'abnormal', 'healthy']\n",
      ".ipynb_checkpoints\n",
      "task1/abnormal\n",
      "['5598.png', '5599.png', '5600.png', '5601.png', '5602.png', '5603.png', '5604.png', '5605.png', '5606.png', '5607.png', '5608.png', '5609.png', '5610.png', '5611.png', '5612.png', '5613.png', '5614.png', '5615.png', '5616.png', '5617.png', '5618.png', '5619.png', '5620.png', '5621.png', '5622.png', '5623.png', '5624.png', '5625.png', '5626.png', '5627.png', '5628.png', '5629.png', '5630.png', '5631.png', '5632.png', '5633.png', '5634.png', '5635.png', '5636.png', '5637.png', '5638.png', '5639.png', '5640.png', '5641.png', '5642.png', '5643.png', '5644.png', '5645.png', '5646.png', '5647.png', '5648.png', '5649.png', '5650.png', '5651.png', '5652.png', '5653.png', '5654.png', '5655.png', '5656.png', '5657.png', '5658.png', '5659.png', '5660.png', '5661.png', '7255.png', '7256.png', '7257.png', '7258.png', '7259.png', '7260.png', '7261.png', '7262.png', '7263.png', '7264.png', '7265.png', '7266.png', '7267.png', '7268.png', '7269.png', '7270.png', '7271.png', '7272.png', '7273.png', '7274.png', '7275.png', '7276.png', '7277.png', '7278.png', '7279.png', '7280.png', '7281.png', '7282.png', '7283.png', '7284.png', '7285.png', '7286.png', '7287.png', '7288.png', '7289.png', '7290.png', '7291.png', '7292.png', '7293.png', '7295.png', '7296.png']\n",
      "task1/healthy\n",
      "['1 (2).png', '1.png', '10 (2).png', '10.png', '11 (2).png', '11.png', '12 (2).png', '12.png', '13 (2).png', '13.png', '14 (2).png', '14.png', '15 (2).png', '15.png', '16 (2).png', '16.png', '17 (2).png', '17.png', '18 (2).png', '18.png', '19 (2).png', '19.png', '2 (2).png', '2.png', '20 (2).png', '20.png', '21 (2).png', '21.png', '22 (2).png', '22.png', '23 (2).png', '23.png', '24 (2).png', '24.png', '25 (2).png', '25.png', '26 (2).png', '26.png', '27 (2).png', '27.png', '28 (2).png', '28.png', '29 (2).png', '29.png', '3 (2).png', '3.png', '30 (2).png', '30.png', '31 (2).png', '31.png', '32 (2).png', '32.png', '33 (2).png', '33.png', '34 (2).png', '34.png', '35 (2).png', '35.png', '36 (2).png', '36.png', '4 (2).png', '4.png', '5 (2).png', '5.png', '6 (2).png', '6.png', '7 (2).png', '7.png', '8 (2).png', '8.png', '9 (2).png', '9.png', 'ImgH_1.png', 'ImgH_10.png', 'ImgH_11.png', 'ImgH_12.png', 'ImgH_13.png', 'ImgH_14.png', 'ImgH_15.png', 'ImgH_16.png', 'ImgH_17.png', 'ImgH_18.png', 'ImgH_19.png', 'ImgH_2.png', 'ImgH_20.png', 'ImgH_21.png', 'ImgH_22.png', 'ImgH_23.png', 'ImgH_24.png', 'ImgH_25.png', 'ImgH_26.png', 'ImgH_27.png', 'ImgH_28.png', 'ImgH_29.png', 'ImgH_3.png', 'ImgH_30.png', 'ImgH_31.png', 'ImgH_32.png', 'ImgH_33.png', 'ImgH_34.png', 'ImgH_35.png', 'ImgH_36.png', 'ImgH_4.png', 'ImgH_5.png', 'ImgH_6.png', 'ImgH_7.png', 'ImgH_8.png', 'ImgH_9.png']\n",
      "['abnormal', 'abnormal', 'abnormal', 'abnormal', 'abnormal', 'abnormal', 'abnormal', 'abnormal', 'abnormal', 'abnormal', 'abnormal', 'abnormal', 'abnormal', 'abnormal', 'abnormal', 'abnormal', 'abnormal', 'abnormal', 'abnormal', 'abnormal', 'abnormal', 'abnormal', 'abnormal', 'abnormal', 'abnormal', 'abnormal', 'abnormal', 'abnormal', 'abnormal', 'abnormal', 'abnormal', 'abnormal', 'abnormal', 'abnormal', 'abnormal', 'abnormal', 'abnormal', 'abnormal', 'abnormal', 'abnormal', 'abnormal', 'abnormal', 'abnormal', 'abnormal', 'abnormal', 'abnormal', 'abnormal', 'abnormal', 'abnormal', 'abnormal', 'abnormal', 'abnormal', 'abnormal', 'abnormal', 'abnormal', 'abnormal', 'abnormal', 'abnormal', 'abnormal', 'abnormal', 'abnormal', 'abnormal', 'abnormal', 'abnormal', 'abnormal', 'abnormal', 'abnormal', 'abnormal', 'abnormal', 'abnormal', 'abnormal', 'abnormal', 'abnormal', 'abnormal', 'abnormal', 'abnormal', 'abnormal', 'abnormal', 'abnormal', 'abnormal', 'abnormal', 'abnormal', 'abnormal', 'abnormal', 'abnormal', 'abnormal', 'abnormal', 'abnormal', 'abnormal', 'abnormal', 'abnormal', 'abnormal', 'abnormal', 'abnormal', 'abnormal', 'abnormal', 'abnormal', 'abnormal', 'abnormal', 'abnormal', 'abnormal', 'abnormal', 'abnormal', 'abnormal', 'abnormal', 'healthy', 'healthy', 'healthy', 'healthy', 'healthy', 'healthy', 'healthy', 'healthy', 'healthy', 'healthy', 'healthy', 'healthy', 'healthy', 'healthy', 'healthy', 'healthy', 'healthy', 'healthy', 'healthy', 'healthy', 'healthy', 'healthy', 'healthy', 'healthy', 'healthy', 'healthy', 'healthy', 'healthy', 'healthy', 'healthy', 'healthy', 'healthy', 'healthy', 'healthy', 'healthy', 'healthy', 'healthy', 'healthy', 'healthy', 'healthy', 'healthy', 'healthy', 'healthy', 'healthy', 'healthy', 'healthy', 'healthy', 'healthy', 'healthy', 'healthy', 'healthy', 'healthy', 'healthy', 'healthy', 'healthy', 'healthy', 'healthy', 'healthy', 'healthy', 'healthy', 'healthy', 'healthy', 'healthy', 'healthy', 'healthy', 'healthy', 'healthy', 'healthy', 'healthy', 'healthy', 'healthy', 'healthy', 'healthy', 'healthy', 'healthy', 'healthy', 'healthy', 'healthy', 'healthy', 'healthy', 'healthy', 'healthy', 'healthy', 'healthy', 'healthy', 'healthy', 'healthy', 'healthy', 'healthy', 'healthy', 'healthy', 'healthy', 'healthy', 'healthy', 'healthy', 'healthy', 'healthy', 'healthy', 'healthy', 'healthy', 'healthy', 'healthy', 'healthy', 'healthy', 'healthy', 'healthy', 'healthy', 'healthy']\n"
     ]
    }
   ],
   "source": [
    "import os\n",
    "parent_dir = \"task1\"\n",
    "path = os.path.join(parent_dir)\n",
    "print(path)\n",
    "listing=os.listdir(parent_dir)\n",
    "\n",
    "print(listing)\n",
    "\n",
    "a =[]\n",
    "paths =[]\n",
    "labels =[]\n",
    "for i in range(0,len(listing)):\n",
    "  if listing[i]==\".ipynb_checkpoints\":\n",
    "    print(listing[i])\n",
    "    continue\n",
    "\n",
    "  utrunk = os.listdir(parent_dir+'/'+listing[i])\n",
    "  print(parent_dir+'/'+listing[i])\n",
    "\n",
    "  for j in utrunk:\n",
    "    labels.append(listing[i])    \n",
    "    paths.append(parent_dir+'/'+listing[i]+\"/\"+j)\n",
    "  a.append(utrunk)\n",
    "  print(utrunk)\n",
    "print(labels)\n",
    "count =0\n",
    "for i in paths:\n",
    "  if \".ipynb\" in i :\n",
    "    del paths[count]\n",
    "  count+1"
   ]
  },
  {
   "cell_type": "code",
   "execution_count": 2,
   "id": "ec4761a9",
   "metadata": {},
   "outputs": [],
   "source": [
    "im=[]\n",
    "import cv2\n",
    "import numpy as np\n",
    "from matplotlib import pyplot as plt\n",
    "for i in range(0,len(paths)):\n",
    "   img = cv2.imread(paths[i],0)\n",
    "   imgg=cv2.resize(img,(300,300))\n",
    "   im.append(imgg)"
   ]
  },
  {
   "cell_type": "code",
   "execution_count": 3,
   "id": "de9240d9",
   "metadata": {},
   "outputs": [
    {
     "name": "stdout",
     "output_type": "stream",
     "text": [
      "(213, 300, 300)\n",
      "(213,)\n"
     ]
    }
   ],
   "source": [
    "x=im\n",
    "y=labels\n",
    "print(np.shape(x))\n",
    "print(np.shape(y))"
   ]
  },
  {
   "cell_type": "code",
   "execution_count": 4,
   "id": "640ec15b",
   "metadata": {},
   "outputs": [],
   "source": [
    "from sklearn.model_selection import train_test_split\n",
    "x_train,x_test,y_train,y_test=train_test_split(x,y,test_size=0.1,random_state=10)"
   ]
  },
  {
   "cell_type": "code",
   "execution_count": 5,
   "id": "baca3d18",
   "metadata": {},
   "outputs": [
    {
     "name": "stdout",
     "output_type": "stream",
     "text": [
      "[[[255 255 255 ... 255 255 255]\n",
      "  [255 255 255 ... 255 255 255]\n",
      "  [255 255 255 ... 255 255 255]\n",
      "  ...\n",
      "  [255 255 255 ... 255 255 255]\n",
      "  [255 255 255 ... 255 255 255]\n",
      "  [255 255 255 ... 255 255 255]]\n",
      "\n",
      " [[255 255 255 ... 255 255 255]\n",
      "  [255 255 255 ... 255 255 255]\n",
      "  [255 255 255 ... 255 255 255]\n",
      "  ...\n",
      "  [255 255 255 ... 255 255 255]\n",
      "  [255 255 255 ... 255 255 255]\n",
      "  [255 255 255 ... 255 255 255]]\n",
      "\n",
      " [[  0   0   0 ...   0   0   0]\n",
      "  [  0   0   0 ...   0   0   0]\n",
      "  [  0   0   0 ...   0   0   0]\n",
      "  ...\n",
      "  [  0   0   0 ...   0   0   0]\n",
      "  [  0   0   0 ...   0   0   0]\n",
      "  [  0   0   0 ...   0   0   0]]\n",
      "\n",
      " ...\n",
      "\n",
      " [[255 255 255 ... 255 255 255]\n",
      "  [255 255 255 ... 255 255 255]\n",
      "  [255 255 255 ... 255 255 255]\n",
      "  ...\n",
      "  [255 255 255 ... 255 255 255]\n",
      "  [255 255 255 ... 255 255 255]\n",
      "  [255 255 255 ... 255 255 255]]\n",
      "\n",
      " [[  0   0   0 ...   0   0 128]\n",
      "  [  0   0   0 ...   0   0 128]\n",
      "  [  0   0   0 ...   0   0 128]\n",
      "  ...\n",
      "  [  0   0   0 ...   0   0 128]\n",
      "  [  0   0   0 ...   0   0 128]\n",
      "  [255 255 255 ... 255 255 255]]\n",
      "\n",
      " [[255 255 255 ... 255 255 255]\n",
      "  [255 255 255 ... 255 255 255]\n",
      "  [255 255 255 ... 255 255 255]\n",
      "  ...\n",
      "  [255 255 255 ... 255 255 255]\n",
      "  [255 255 255 ... 255 255 255]\n",
      "  [255 255 255 ... 255 255 255]]]\n",
      "the (191, 300, 300)\n"
     ]
    }
   ],
   "source": [
    "x_train=np.array(x_train)\n",
    "x_test=np.array(x_test)\n",
    "y_train=np.array(y_train)\n",
    "y_test=np.array(y_test)\n",
    "\n",
    "print(np.array(x_train))\n",
    "print('the',np.array(x_train).shape)"
   ]
  },
  {
   "cell_type": "code",
   "execution_count": 6,
   "id": "31564003",
   "metadata": {},
   "outputs": [
    {
     "name": "stdout",
     "output_type": "stream",
     "text": [
      "[[255. 255. 255. ... 255. 255. 255.]\n",
      " [255. 255. 255. ... 255. 255. 255.]\n",
      " [  0.   0.   0. ...   0.   0.   0.]\n",
      " ...\n",
      " [255. 255. 255. ... 255. 255. 255.]\n",
      " [  0.   0.   0. ... 255. 255. 255.]\n",
      " [255. 255. 255. ... 255. 255. 255.]]\n"
     ]
    }
   ],
   "source": [
    "x_train= x_train.reshape(len(x_train),im[1].size)\n",
    "x_test= x_test.reshape(len(x_test),im[1].size)\n",
    "x_train=x_train.astype('float32')\n",
    "x_test=x_test.astype('float32')\n",
    "print(x_train.reshape(len(x_train),im[1].size))"
   ]
  },
  {
   "cell_type": "code",
   "execution_count": 23,
   "id": "3262f4fc",
   "metadata": {},
   "outputs": [],
   "source": [
    "from sklearn import svm \n",
    "clf=svm.SVC()\n",
    "clf.fit(x_train,y_train)\n",
    "pred=clf.predict(x_test)"
   ]
  },
  {
   "cell_type": "code",
   "execution_count": 24,
   "id": "a9f84ca7",
   "metadata": {},
   "outputs": [
    {
     "data": {
      "text/plain": [
       "1.0"
      ]
     },
     "execution_count": 24,
     "metadata": {},
     "output_type": "execute_result"
    }
   ],
   "source": [
    "from  sklearn.metrics import accuracy_score\n",
    "accuracy=accuracy_score(y_test,pred)\n",
    "accuracy"
   ]
  },
  {
   "cell_type": "markdown",
   "id": "bc2bc5cd",
   "metadata": {},
   "source": [
    "# Exporting the model"
   ]
  },
  {
   "cell_type": "code",
   "execution_count": 25,
   "id": "de8925e5",
   "metadata": {},
   "outputs": [],
   "source": [
    "import pickle"
   ]
  },
  {
   "cell_type": "code",
   "execution_count": 26,
   "id": "bf6c292c",
   "metadata": {},
   "outputs": [],
   "source": [
    "filename='finalized svm ecg model.sav'\n",
    "pickle.dump(clf,open(filename, 'wb'))"
   ]
  },
  {
   "cell_type": "markdown",
   "id": "eea464b3",
   "metadata": {},
   "source": [
    "# Loading the export model"
   ]
  },
  {
   "cell_type": "code",
   "execution_count": 27,
   "id": "b472840f",
   "metadata": {},
   "outputs": [],
   "source": [
    "loaded_model=pickle.load(open(filename,'rb'))"
   ]
  },
  {
   "cell_type": "code",
   "execution_count": 28,
   "id": "24170395",
   "metadata": {},
   "outputs": [
    {
     "data": {
      "text/plain": [
       "1.0"
      ]
     },
     "execution_count": 28,
     "metadata": {},
     "output_type": "execute_result"
    }
   ],
   "source": [
    "result=loaded_model.score(x_test,y_test)\n",
    "result"
   ]
  },
  {
   "cell_type": "markdown",
   "id": "55f13121",
   "metadata": {},
   "source": [
    " Another method"
   ]
  },
  {
   "cell_type": "code",
   "execution_count": 21,
   "id": "68a623e3",
   "metadata": {},
   "outputs": [],
   "source": [
    "import joblib"
   ]
  },
  {
   "cell_type": "code",
   "execution_count": 22,
   "id": "b6eaf2c5",
   "metadata": {},
   "outputs": [
    {
     "name": "stdout",
     "output_type": "stream",
     "text": [
      "1.0\n"
     ]
    }
   ],
   "source": [
    "# joblib.dump(clf,filename)\n",
    "loaded_model=joblib.load(filename)\n",
    "result=loaded_model.score(x_test,y_test)\n",
    "print(result)"
   ]
  }
 ],
 "metadata": {
  "kernelspec": {
   "display_name": "Python 3",
   "language": "python",
   "name": "python3"
  },
  "language_info": {
   "codemirror_mode": {
    "name": "ipython",
    "version": 3
   },
   "file_extension": ".py",
   "mimetype": "text/x-python",
   "name": "python",
   "nbconvert_exporter": "python",
   "pygments_lexer": "ipython3",
   "version": "3.8.8"
  }
 },
 "nbformat": 4,
 "nbformat_minor": 5
}
